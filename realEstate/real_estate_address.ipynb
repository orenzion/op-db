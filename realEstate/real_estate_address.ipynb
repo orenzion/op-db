{
 "cells": [
  {
   "cell_type": "code",
   "execution_count": 1,
   "metadata": {},
   "outputs": [],
   "source": [
    "import pandas as pd\n",
    "import json\n",
    "import os"
   ]
  },
  {
   "cell_type": "code",
   "execution_count": 2,
   "metadata": {},
   "outputs": [],
   "source": [
    "directory = 'Single Possession/'\n",
    "frames = [None] * len(os.listdir(directory))\n",
    "i = 0\n",
    "for filename in os.listdir(directory):\n",
    "    data = []\n",
    "    with open(directory + filename,'r') as f:\n",
    "        data = json.load(f)\n",
    "        if 'זכויות מקרקעין' not in data:\n",
    "            continue\n",
    "        temp_df = pd.DataFrame(data['זכויות מקרקעין'])\n",
    "    frames[i] = temp_df\n",
    "    i+=1\n",
    "\n",
    "df = pd.concat(frames)"
   ]
  },
  {
   "cell_type": "code",
   "execution_count": 3,
   "metadata": {},
   "outputs": [
    {
     "data": {
      "text/plain": [
       "array(['513765347_gsum_0118.xlsx', '513765347_gsum_0119.xlsx',\n",
       "       '513765347_gsum_0218.xlsx', '513765347_gsum_0219.xlsx',\n",
       "       '513765347_gsum_0318.xlsx', '513765347_gsum_0319.xlsx',\n",
       "       '513765347_gsum_0418.xlsx', '520004078_bsum_0118.xlsx',\n",
       "       '520004078_bsum_0119.xlsx', '520004078_bsum_0218.xlsx',\n",
       "       '520004078_bsum_0219.xlsx', '520004078_bsum_0318.xlsx',\n",
       "       '520004078_bsum_0319.xlsx', '520004078_bsum_0418.xlsx',\n",
       "       '520004896_bsum_0119.xlsx', '520004896_bsum_0218.xlsx',\n",
       "       '520004896_bsum_0219.xlsx', '520004896_bsum_0318.xlsx',\n",
       "       '520004896_bsum_0319.xlsx', '520004896_bsum_0418.xlsx',\n",
       "       '520019688_psum_0118.xlsx', '520019688_psum_0119.xlsx',\n",
       "       '520019688_psum_0218.xlsx', '520019688_psum_0219.xlsx',\n",
       "       '520019688_psum_0318.xlsx', '520019688_psum_0319.xlsx',\n",
       "       '520019688_psum_0418.xlsx', '520023185_bsum_0119.xlsx',\n",
       "       '520023185_bsum_0218.xlsx', '520023185_bsum_0219.xlsx',\n",
       "       '520023185_bsum_0318.xlsx', '520023185_bsum_0319.xlsx',\n",
       "       '520023185_bsum_0418.xlsx', '520024647_bsum_0319.xlsx',\n",
       "       '520042177_bsum_0119.xlsx', '520042177_bsum_0218.xlsx',\n",
       "       '520042177_bsum_0219.xlsx', '520042177_bsum_0318.xlsx',\n",
       "       '520042177_bsum_0319.xlsx', '520042177_bsum_0418.xlsx',\n",
       "       '520042540_bsum_0118.xlsx', '520042540_bsum_0119.xlsx',\n",
       "       '520042540_bsum_0218.xlsx', '520042540_bsum_0219.xlsx',\n",
       "       '520042540_bsum_0318.xlsx', '520042540_bsum_0319.xlsx',\n",
       "       '520042540_bsum_0418.xlsx', '570009852_psum_0118.xlsx',\n",
       "       '570009852_psum_0119.xlsx', '570009852_psum_0218.xlsx',\n",
       "       '570009852_psum_0219.xlsx', '570009852_psum_0318.xlsx',\n",
       "       '570009852_psum_0319.xlsx', '570009852_psum_0418.xlsx'],\n",
       "      dtype=object)"
      ]
     },
     "execution_count": 3,
     "metadata": {},
     "output_type": "execute_result"
    }
   ],
   "source": [
    "df['file_name'].unique()"
   ]
  },
  {
   "cell_type": "code",
   "execution_count": 4,
   "metadata": {},
   "outputs": [
    {
     "data": {
      "text/plain": [
       "(640, 20)"
      ]
     },
     "execution_count": 4,
     "metadata": {},
     "output_type": "execute_result"
    }
   ],
   "source": [
    "df.shape"
   ]
  },
  {
   "cell_type": "code",
   "execution_count": 5,
   "metadata": {},
   "outputs": [
    {
     "data": {
      "text/plain": [
       "Index(['index', 'israel', 'line_in_file', 'Instrument name',\n",
       "       'Date of valuation', 'Real estate type', 'Holding period return/yield',\n",
       "       'Currency', 'Fair value', 'Rate of instrument type',\n",
       "       'Rate of fund holding', 'Real estate address', 'Investment',\n",
       "       'file_name', 'Date', 'Institutional body', 'Fund Name', 'Fund Number',\n",
       "       '1. Real Estate', 'item_ו. זכויות מקרקעין'],\n",
       "      dtype='object')"
      ]
     },
     "execution_count": 5,
     "metadata": {},
     "output_type": "execute_result"
    }
   ],
   "source": [
    "df.columns"
   ]
  },
  {
   "cell_type": "markdown",
   "metadata": {},
   "source": [
    "# extract manager number, channel, year, quarter"
   ]
  },
  {
   "cell_type": "code",
   "execution_count": 6,
   "metadata": {},
   "outputs": [],
   "source": [
    "df['Manager Number'] = df['file_name'].str.slice(stop=9)"
   ]
  },
  {
   "cell_type": "code",
   "execution_count": 7,
   "metadata": {},
   "outputs": [],
   "source": [
    "df['year'] = df['file_name'].str.slice(start=17,stop=19)"
   ]
  },
  {
   "cell_type": "code",
   "execution_count": 8,
   "metadata": {},
   "outputs": [],
   "source": [
    "df['quarter'] = df['file_name'].str.slice(start=16,stop=17)"
   ]
  },
  {
   "cell_type": "markdown",
   "metadata": {},
   "source": [
    "# export to csv"
   ]
  },
  {
   "cell_type": "code",
   "execution_count": 10,
   "metadata": {},
   "outputs": [],
   "source": [
    "df.to_excel('זכויות מקרקעין.xlsx', index = False)"
   ]
  },
  {
   "cell_type": "code",
   "execution_count": null,
   "metadata": {},
   "outputs": [],
   "source": []
  }
 ],
 "metadata": {
  "kernelspec": {
   "display_name": "Python 3",
   "language": "python",
   "name": "python3"
  },
  "language_info": {
   "codemirror_mode": {
    "name": "ipython",
    "version": 3
   },
   "file_extension": ".py",
   "mimetype": "text/x-python",
   "name": "python",
   "nbconvert_exporter": "python",
   "pygments_lexer": "ipython3",
   "version": "3.7.6"
  }
 },
 "nbformat": 4,
 "nbformat_minor": 4
}
