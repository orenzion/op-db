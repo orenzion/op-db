{
 "cells": [
  {
   "cell_type": "code",
   "execution_count": 13,
   "metadata": {},
   "outputs": [],
   "source": [
    "import xlrd\n",
    "import os\n",
    "import glob\n",
    "import numpy as np\n",
    "import datetime\n",
    "import pandas as pd"
   ]
  },
  {
   "cell_type": "code",
   "execution_count": 2,
   "metadata": {},
   "outputs": [
    {
     "data": {
      "text/plain": [
       "['תשואה  לפי  אפיק -_20171231_v1_1059_5861.xls',\n",
       " 'תשואה  לפי  אפיק -_20171231_v1_11380_2141.xls',\n",
       " 'תשואה  לפי  אפיק -_20171231_v1_11381_2261.xls',\n",
       " 'תשואה  לפי  אפיק -_20171231_v1_11382_2381.xls',\n",
       " 'תשואה  לפי  אפיק -_20171231_v1_11383_2511.xls']"
      ]
     },
     "execution_count": 2,
     "metadata": {},
     "output_type": "execute_result"
    }
   ],
   "source": [
    "#os.chdir(\"/mydir\")\n",
    "files_list = glob.glob(\"*.xls\")\n",
    "files_list[:5]"
   ]
  },
  {
   "cell_type": "code",
   "execution_count": 3,
   "metadata": {},
   "outputs": [
    {
     "data": {
      "text/plain": [
       "34"
      ]
     },
     "execution_count": 3,
     "metadata": {},
     "output_type": "execute_result"
    }
   ],
   "source": [
    "len(files_list)"
   ]
  },
  {
   "cell_type": "markdown",
   "metadata": {},
   "source": [
    "# create empty dataframe"
   ]
  },
  {
   "cell_type": "code",
   "execution_count": 4,
   "metadata": {},
   "outputs": [],
   "source": [
    "df = pd.DataFrame(columns=[\"file_name\",\"fund_name\",\"year\",\"month\",\"title\",\"sub_title\",\"value\"])"
   ]
  },
  {
   "cell_type": "markdown",
   "metadata": {},
   "source": [
    "# basic row structure"
   ]
  },
  {
   "cell_type": "code",
   "execution_count": 5,
   "metadata": {},
   "outputs": [],
   "source": [
    "basic_row_struct = {\"file_name\":None,\n",
    "                    \"fund_name\":None,\n",
    "                   \"year\":None,\n",
    "                   \"month\":None,\n",
    "                   \"title\":None,\n",
    "                   \"sub_title\":None,\n",
    "                   \"value\":None}"
   ]
  },
  {
   "cell_type": "markdown",
   "metadata": {},
   "source": [
    "# add file name to struct"
   ]
  },
  {
   "cell_type": "code",
   "execution_count": 6,
   "metadata": {},
   "outputs": [],
   "source": [
    "def add_file_name_to_struct(file_name, basic_row_struct):\n",
    "    basic_row_struct['file_name'] = file_name"
   ]
  },
  {
   "cell_type": "markdown",
   "metadata": {},
   "source": [
    "# add_fund_name_and_get_worksheet"
   ]
  },
  {
   "cell_type": "code",
   "execution_count": 7,
   "metadata": {},
   "outputs": [],
   "source": [
    "def add_fund_name_and_get_worksheet(workbook, basic_row_struct):\n",
    "    fund_name = workbook.sheet_names()[0] # there's only only one sheet in position 0\n",
    "    basic_row_struct[\"fund_name\"] = fund_name\n",
    "    # get work sheet\n",
    "    worksheet = workbook.sheets()[0]\n",
    "    return worksheet"
   ]
  },
  {
   "cell_type": "markdown",
   "metadata": {},
   "source": [
    "# add year to struct xlsx"
   ]
  },
  {
   "cell_type": "code",
   "execution_count": 8,
   "metadata": {},
   "outputs": [],
   "source": [
    "def add_year(worksheet,basic_row_struct):\n",
    "    if worksheet.cell(4,1).value != None and type(worksheet.cell(4,1).value) == int:\n",
    "        year = worksheet.cell(4,1).value\n",
    "    elif worksheet.cell(4,2).value != None and type(worksheet.cell(4,2).value) == int:\n",
    "        year = worksheet.cell(4,2).value\n",
    "    else:\n",
    "        col1 = 7\n",
    "        col2 = 8\n",
    "        for row_num in range(1,17):\n",
    "            val1 = worksheet.cell(row_num,col1).value\n",
    "            val2 = worksheet.cell(row_num,col2).value\n",
    "        \n",
    "            if val1 != None:\n",
    "                if type(val1) == datetime.datetime:\n",
    "                    year = val1.year\n",
    "                    break\n",
    "                if type(val1) == int:\n",
    "                    year = val1\n",
    "                    break\n",
    "                arr1 = [int(s) for s in val1.split() if s.isdigit()]\n",
    "                if arr1:\n",
    "                    year = arr1[0]\n",
    "                    break\n",
    "            if val2 != None:\n",
    "                if type(val2) == datetime.datetime:\n",
    "                    year = val2.year\n",
    "                    break\n",
    "                if type(val2) == int:\n",
    "                    year = val2\n",
    "                    break\n",
    "                arr2 = [int(s) for s in val2.split() if s.isdigit()]\n",
    "                if arr2:\n",
    "                    year = arr2[0]\n",
    "                    break\n",
    "\n",
    "    if len(str(year)) > 4:\n",
    "        year = int(str(year)[:-1])\n",
    "    basic_row_struct['year'] = year"
   ]
  },
  {
   "cell_type": "markdown",
   "metadata": {},
   "source": [
    "# find top corner xlsx:"
   ]
  },
  {
   "cell_type": "code",
   "execution_count": 9,
   "metadata": {},
   "outputs": [],
   "source": [
    "def find_top_corner(worksheet):\n",
    "    exit_loop = False\n",
    "    for r in range(18):\n",
    "        for c in range(4):\n",
    "            cell = worksheet.cell(r,c)\n",
    "            if type(cell.value) == str and cell.value.find('מזומנים') != -1:\n",
    "                start_row = r\n",
    "                start_col = c\n",
    "                exit_loop = True\n",
    "                break\n",
    "        if exit_loop == True:\n",
    "            break\n",
    "    return start_row, start_col"
   ]
  },
  {
   "cell_type": "markdown",
   "metadata": {},
   "source": [
    "# find end row xlsx:"
   ]
  },
  {
   "cell_type": "code",
   "execution_count": 10,
   "metadata": {},
   "outputs": [],
   "source": [
    "def find_end_row(worksheet):\n",
    "    exit_loop = False\n",
    "    for r in range(25,37):\n",
    "        for c in range(0,4):\n",
    "            cell = worksheet.cell(r,c)\n",
    "            if type(cell.value) == str and cell.value.find('רווח') != -1 :\n",
    "                end_row = r\n",
    "                exit_loop = True\n",
    "                break\n",
    "        if exit_loop == True:\n",
    "            break\n",
    "    return end_row"
   ]
  },
  {
   "cell_type": "markdown",
   "metadata": {},
   "source": [
    "# iterate table and get values xlsx:"
   ]
  },
  {
   "cell_type": "code",
   "execution_count": 15,
   "metadata": {},
   "outputs": [],
   "source": [
    "def get_values_and_add_to_df(worksheet, start_row, end_row, start_col, basic_row_struct):\n",
    "    df = pd.DataFrame(columns=[\"file_name\",\"fund_name\",\"year\",\"month\",\"title\",\"sub_title\",\"value\"])\n",
    "    for r in range(start_row,end_row+1):\n",
    "        i = 0\n",
    "        month = 1\n",
    "        for c in range(start_col, start_col+25):\n",
    "            cell = worksheet.cell(r,c)  \n",
    "            if i == 0:\n",
    "                basic_row_struct['title'] = cell.value\n",
    "            elif i%2 == 1:\n",
    "                basic_row_struct['sub_title'] = 'תרומה לתשואה'\n",
    "                basic_row_struct['month'] = month\n",
    "                basic_row_struct['value'] = cell.value\n",
    "            else:\n",
    "                basic_row_struct['sub_title'] = 'שיעור מסך הנכסים'\n",
    "                basic_row_struct['month'] = month\n",
    "                basic_row_struct['value'] = cell.value\n",
    "                month+=1\n",
    "            if i!= 0:\n",
    "                df = df.append(basic_row_struct,ignore_index=True)\n",
    "                #print(basic_row_struct)\n",
    "            i+=1\n",
    "    return df"
   ]
  },
  {
   "cell_type": "markdown",
   "metadata": {},
   "source": [
    "# go over all xlsx files"
   ]
  },
  {
   "cell_type": "code",
   "execution_count": null,
   "metadata": {},
   "outputs": [],
   "source": [
    "for i in range(len(files_list[:])):\n",
    "    file_name = files_list[i]\n",
    "    filename_no_extention, extension = os.path.splitext(file_name)\n",
    "    workbook = xlrd.open_workbook(filename=file_name)\n",
    "    add_file_name_to_struct(file_name,basic_row_struct)\n",
    "    worksheet = add_fund_name_and_get_worksheet(workbook,basic_row_struct)\n",
    "    add_year(worksheet, basic_row_struct)\n",
    "    start_row, start_col = find_top_corner(worksheet)\n",
    "    end_row = find_end_row(worksheet)\n",
    "    df = get_values_and_add_to_df(worksheet,start_row,end_row,start_col,basic_row_struct)\n",
    "    path = 'output_xls/' + filename_no_extention + '.csv'\n",
    "    df.to_csv(path,index = False, encoding = 'utf-8-sig')"
   ]
  },
  {
   "cell_type": "code",
   "execution_count": 194,
   "metadata": {},
   "outputs": [
    {
     "data": {
      "text/plain": [
       "'דוח-תשואה-לאפיקים-כללית-60-פלוס רבעון 4 2017.xlsx'"
      ]
     },
     "execution_count": 194,
     "metadata": {},
     "output_type": "execute_result"
    }
   ],
   "source": [
    "file_name"
   ]
  },
  {
   "cell_type": "code",
   "execution_count": null,
   "metadata": {},
   "outputs": [],
   "source": []
  }
 ],
 "metadata": {
  "kernelspec": {
   "display_name": "Python 3",
   "language": "python",
   "name": "python3"
  },
  "language_info": {
   "codemirror_mode": {
    "name": "ipython",
    "version": 3
   },
   "file_extension": ".py",
   "mimetype": "text/x-python",
   "name": "python",
   "nbconvert_exporter": "python",
   "pygments_lexer": "ipython3",
   "version": "3.7.6"
  }
 },
 "nbformat": 4,
 "nbformat_minor": 4
}
