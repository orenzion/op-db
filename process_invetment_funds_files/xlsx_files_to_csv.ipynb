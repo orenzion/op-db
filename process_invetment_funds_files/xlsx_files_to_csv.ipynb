{
 "cells": [
  {
   "cell_type": "code",
   "execution_count": 182,
   "metadata": {},
   "outputs": [],
   "source": [
    "import openpyxl\n",
    "import os\n",
    "import glob\n",
    "import numpy as np\n",
    "import datetime\n",
    "import pandas as pd"
   ]
  },
  {
   "cell_type": "code",
   "execution_count": 183,
   "metadata": {},
   "outputs": [
    {
     "data": {
      "text/plain": [
       "['101_201712.xlsx',\n",
       " '1335_201712.xlsx',\n",
       " '1524_201712.xlsx',\n",
       " '3b48kzpzk8nbpghp-512245812_g1149_yield419.xlsx',\n",
       " '3b48kzpzk8nbs7yw-512245812_g1256_yield419.xlsx']"
      ]
     },
     "execution_count": 183,
     "metadata": {},
     "output_type": "execute_result"
    }
   ],
   "source": [
    "#os.chdir(\"/mydir\")\n",
    "files_list = glob.glob(\"*.xlsx\")\n",
    "files_list[:5]"
   ]
  },
  {
   "cell_type": "code",
   "execution_count": 184,
   "metadata": {},
   "outputs": [
    {
     "data": {
      "text/plain": [
       "572"
      ]
     },
     "execution_count": 184,
     "metadata": {},
     "output_type": "execute_result"
    }
   ],
   "source": [
    "len(files_list)"
   ]
  },
  {
   "cell_type": "markdown",
   "metadata": {},
   "source": [
    "# create empty dataframe"
   ]
  },
  {
   "cell_type": "code",
   "execution_count": 185,
   "metadata": {},
   "outputs": [],
   "source": [
    "df = pd.DataFrame(columns=[\"file_name\",\"fund_name\",\"year\",\"month\",\"title\",\"sub_title\",\"value\"])"
   ]
  },
  {
   "cell_type": "markdown",
   "metadata": {},
   "source": [
    "# basic row structure"
   ]
  },
  {
   "cell_type": "code",
   "execution_count": 186,
   "metadata": {},
   "outputs": [],
   "source": [
    "basic_row_struct = {\"file_name\":None,\n",
    "                    \"fund_name\":None,\n",
    "                   \"year\":None,\n",
    "                   \"month\":None,\n",
    "                   \"title\":None,\n",
    "                   \"sub_title\":None,\n",
    "                   \"value\":None}"
   ]
  },
  {
   "cell_type": "markdown",
   "metadata": {},
   "source": [
    "# add file name to struct"
   ]
  },
  {
   "cell_type": "code",
   "execution_count": 187,
   "metadata": {},
   "outputs": [],
   "source": [
    "def add_file_name_to_struct(file_name, basic_row_struct):\n",
    "    basic_row_struct['file_name'] = file_name"
   ]
  },
  {
   "cell_type": "markdown",
   "metadata": {},
   "source": [
    "# add_fund_name_and_get_worksheet"
   ]
  },
  {
   "cell_type": "code",
   "execution_count": 188,
   "metadata": {},
   "outputs": [],
   "source": [
    "def add_fund_name_and_get_worksheet(workbook, basic_row_struct):\n",
    "    fund_name = workbook.sheetnames[0] # there's only only one sheet in position 0\n",
    "    basic_row_struct[\"fund_name\"] = fund_name\n",
    "    # get work sheet\n",
    "    worksheet = workbook[fund_name]\n",
    "    return worksheet"
   ]
  },
  {
   "cell_type": "markdown",
   "metadata": {},
   "source": [
    "# add year to struct xlsx"
   ]
  },
  {
   "cell_type": "code",
   "execution_count": 195,
   "metadata": {},
   "outputs": [],
   "source": [
    "def add_year(worksheet,basic_row_struct):\n",
    "    if worksheet.cell(4,1).value != None and type(worksheet.cell(4,1).value) == int:\n",
    "        year = worksheet.cell(4,1).value\n",
    "    elif worksheet.cell(4,2).value != None and type(worksheet.cell(4,2).value) == int:\n",
    "        year = worksheet.cell(4,2).value\n",
    "    else:\n",
    "        col1 = 7\n",
    "        col2 = 8\n",
    "        for row_num in range(1,17):\n",
    "            val1 = worksheet.cell(row_num,col1).value\n",
    "            val2 = worksheet.cell(row_num,col2).value\n",
    "        \n",
    "            if val1 != None:\n",
    "                if type(val1) == datetime.datetime:\n",
    "                    year = val1.year\n",
    "                    break\n",
    "                if type(val1) == int:\n",
    "                    year = val1\n",
    "                    break\n",
    "                arr1 = [int(s) for s in val1.split() if s.isdigit()]\n",
    "                if arr1:\n",
    "                    year = arr1[0]\n",
    "                    break\n",
    "            if val2 != None:\n",
    "                if type(val2) == datetime.datetime:\n",
    "                    year = val2.year\n",
    "                    break\n",
    "                if type(val2) == int:\n",
    "                    year = val2\n",
    "                    break\n",
    "                arr2 = [int(s) for s in val2.split() if s.isdigit()]\n",
    "                if arr2:\n",
    "                    year = arr2[0]\n",
    "                    break\n",
    "\n",
    "    if len(str(year)) > 4:\n",
    "        year = int(str(year)[:-1])\n",
    "    basic_row_struct['year'] = year"
   ]
  },
  {
   "cell_type": "markdown",
   "metadata": {},
   "source": [
    "# find top corner xlsx:"
   ]
  },
  {
   "cell_type": "code",
   "execution_count": 190,
   "metadata": {},
   "outputs": [],
   "source": [
    "def find_top_corner(worksheet):\n",
    "    exit_loop = False\n",
    "    for row in worksheet.iter_rows(max_row=18,max_col=4):\n",
    "        for cell in row:\n",
    "            if type(cell.value) == str and cell.value.find('מזומנים') != -1:\n",
    "                start_row = cell.row\n",
    "                start_col = cell.column\n",
    "                #print(cell.value)\n",
    "                exit_loop = True\n",
    "                break\n",
    "        if exit_loop == True:\n",
    "            break\n",
    "    return start_row, start_col"
   ]
  },
  {
   "cell_type": "markdown",
   "metadata": {},
   "source": [
    "# find end row xlsx:"
   ]
  },
  {
   "cell_type": "code",
   "execution_count": 191,
   "metadata": {},
   "outputs": [],
   "source": [
    "def find_end_row(worksheet):\n",
    "    exit_loop = False\n",
    "    for row in worksheet.iter_rows(min_row=25,max_row=37,max_col=4):\n",
    "        for cell in row:\n",
    "            if type(cell.value) == str and cell.value.find('רווח') != -1 :\n",
    "                end_row = cell.row\n",
    "                #print(cell.value)\n",
    "                exit_loop = True\n",
    "                break\n",
    "        if exit_loop == True:\n",
    "            break\n",
    "    return end_row"
   ]
  },
  {
   "cell_type": "markdown",
   "metadata": {},
   "source": [
    "# iterate table and get values xlsx:"
   ]
  },
  {
   "cell_type": "code",
   "execution_count": 192,
   "metadata": {},
   "outputs": [],
   "source": [
    "def get_values_and_add_to_df(worksheet, start_row, end_row, start_col, basic_row_struct):\n",
    "    df = pd.DataFrame(columns=[\"file_name\",\"fund_name\",\"year\",\"month\",\"title\",\"sub_title\",\"value\"])\n",
    "    for row in worksheet.iter_rows(min_row=start_row, max_row=end_row, min_col=start_col, max_col=start_col+24):\n",
    "        i = 0\n",
    "        month = 1\n",
    "        for cell in row:\n",
    "            if i == 0:\n",
    "                basic_row_struct['title'] = cell.value\n",
    "            elif i%2 == 1:\n",
    "                basic_row_struct['sub_title'] = 'תרומה לתשואה'\n",
    "                basic_row_struct['month'] = month\n",
    "                basic_row_struct['value'] = cell.value\n",
    "            else:\n",
    "                basic_row_struct['sub_title'] = 'שיעור מסך הנכסים'\n",
    "                basic_row_struct['month'] = month\n",
    "                basic_row_struct['value'] = cell.value\n",
    "                month+=1\n",
    "            if i!= 0:\n",
    "                df = df.append(basic_row_struct,ignore_index=True)\n",
    "            i+=1\n",
    "    return df"
   ]
  },
  {
   "cell_type": "markdown",
   "metadata": {},
   "source": [
    "# go over all xlsx files"
   ]
  },
  {
   "cell_type": "code",
   "execution_count": 193,
   "metadata": {},
   "outputs": [
    {
     "name": "stderr",
     "output_type": "stream",
     "text": [
      "C:\\Users\\orenz\\anaconda3\\lib\\site-packages\\openpyxl\\styles\\stylesheet.py:214: UserWarning: Workbook contains no default style, apply openpyxl's default\n",
      "  warn(\"Workbook contains no default style, apply openpyxl's default\")\n"
     ]
    },
    {
     "ename": "AttributeError",
     "evalue": "'int' object has no attribute 'split'",
     "output_type": "error",
     "traceback": [
      "\u001b[1;31m---------------------------------------------------------------------------\u001b[0m",
      "\u001b[1;31mAttributeError\u001b[0m                            Traceback (most recent call last)",
      "\u001b[1;32m<ipython-input-193-8bd3b586a4f5>\u001b[0m in \u001b[0;36m<module>\u001b[1;34m\u001b[0m\n\u001b[0;32m      5\u001b[0m     \u001b[0madd_file_name_to_struct\u001b[0m\u001b[1;33m(\u001b[0m\u001b[0mfile_name\u001b[0m\u001b[1;33m,\u001b[0m\u001b[0mbasic_row_struct\u001b[0m\u001b[1;33m)\u001b[0m\u001b[1;33m\u001b[0m\u001b[1;33m\u001b[0m\u001b[0m\n\u001b[0;32m      6\u001b[0m     \u001b[0mworksheet\u001b[0m \u001b[1;33m=\u001b[0m \u001b[0madd_fund_name_and_get_worksheet\u001b[0m\u001b[1;33m(\u001b[0m\u001b[0mworkbook\u001b[0m\u001b[1;33m,\u001b[0m\u001b[0mbasic_row_struct\u001b[0m\u001b[1;33m)\u001b[0m\u001b[1;33m\u001b[0m\u001b[1;33m\u001b[0m\u001b[0m\n\u001b[1;32m----> 7\u001b[1;33m     \u001b[0madd_year\u001b[0m\u001b[1;33m(\u001b[0m\u001b[0mworksheet\u001b[0m\u001b[1;33m,\u001b[0m \u001b[0mbasic_row_struct\u001b[0m\u001b[1;33m)\u001b[0m\u001b[1;33m\u001b[0m\u001b[1;33m\u001b[0m\u001b[0m\n\u001b[0m\u001b[0;32m      8\u001b[0m     \u001b[0mstart_row\u001b[0m\u001b[1;33m,\u001b[0m \u001b[0mstart_col\u001b[0m \u001b[1;33m=\u001b[0m \u001b[0mfind_top_corner\u001b[0m\u001b[1;33m(\u001b[0m\u001b[0mworksheet\u001b[0m\u001b[1;33m)\u001b[0m\u001b[1;33m\u001b[0m\u001b[1;33m\u001b[0m\u001b[0m\n\u001b[0;32m      9\u001b[0m     \u001b[0mend_row\u001b[0m \u001b[1;33m=\u001b[0m \u001b[0mfind_end_row\u001b[0m\u001b[1;33m(\u001b[0m\u001b[0mworksheet\u001b[0m\u001b[1;33m)\u001b[0m\u001b[1;33m\u001b[0m\u001b[1;33m\u001b[0m\u001b[0m\n",
      "\u001b[1;32m<ipython-input-189-3c142bcf1842>\u001b[0m in \u001b[0;36madd_year\u001b[1;34m(worksheet, basic_row_struct)\u001b[0m\n\u001b[0;32m     23\u001b[0m                     \u001b[0myear\u001b[0m \u001b[1;33m=\u001b[0m \u001b[0mval2\u001b[0m\u001b[1;33m.\u001b[0m\u001b[0myear\u001b[0m\u001b[1;33m\u001b[0m\u001b[1;33m\u001b[0m\u001b[0m\n\u001b[0;32m     24\u001b[0m                     \u001b[1;32mbreak\u001b[0m\u001b[1;33m\u001b[0m\u001b[1;33m\u001b[0m\u001b[0m\n\u001b[1;32m---> 25\u001b[1;33m                 \u001b[0marr2\u001b[0m \u001b[1;33m=\u001b[0m \u001b[1;33m[\u001b[0m\u001b[0mint\u001b[0m\u001b[1;33m(\u001b[0m\u001b[0ms\u001b[0m\u001b[1;33m)\u001b[0m \u001b[1;32mfor\u001b[0m \u001b[0ms\u001b[0m \u001b[1;32min\u001b[0m \u001b[0mval2\u001b[0m\u001b[1;33m.\u001b[0m\u001b[0msplit\u001b[0m\u001b[1;33m(\u001b[0m\u001b[1;33m)\u001b[0m \u001b[1;32mif\u001b[0m \u001b[0ms\u001b[0m\u001b[1;33m.\u001b[0m\u001b[0misdigit\u001b[0m\u001b[1;33m(\u001b[0m\u001b[1;33m)\u001b[0m\u001b[1;33m]\u001b[0m\u001b[1;33m\u001b[0m\u001b[1;33m\u001b[0m\u001b[0m\n\u001b[0m\u001b[0;32m     26\u001b[0m                 \u001b[1;32mif\u001b[0m \u001b[0marr2\u001b[0m\u001b[1;33m:\u001b[0m\u001b[1;33m\u001b[0m\u001b[1;33m\u001b[0m\u001b[0m\n\u001b[0;32m     27\u001b[0m                     \u001b[0myear\u001b[0m \u001b[1;33m=\u001b[0m \u001b[0marr2\u001b[0m\u001b[1;33m[\u001b[0m\u001b[1;36m0\u001b[0m\u001b[1;33m]\u001b[0m\u001b[1;33m\u001b[0m\u001b[1;33m\u001b[0m\u001b[0m\n",
      "\u001b[1;31mAttributeError\u001b[0m: 'int' object has no attribute 'split'"
     ]
    }
   ],
   "source": [
    "for i in range(len(files_list[:])):\n",
    "    file_name = files_list[i]\n",
    "    filename_no_extention, extension = os.path.splitext(file_name)\n",
    "    workbook = openpyxl.load_workbook(filename=file_name)\n",
    "    add_file_name_to_struct(file_name,basic_row_struct)\n",
    "    worksheet = add_fund_name_and_get_worksheet(workbook,basic_row_struct)\n",
    "    add_year(worksheet, basic_row_struct)\n",
    "    start_row, start_col = find_top_corner(worksheet)\n",
    "    end_row = find_end_row(worksheet)\n",
    "    df = get_values_and_add_to_df(worksheet,start_row,end_row,start_col,basic_row_struct)\n",
    "    path = 'output_xlsx/' + filename_no_extention + '.csv'\n",
    "    df.to_csv(path,index = False, encoding = 'utf-8-sig')"
   ]
  },
  {
   "cell_type": "code",
   "execution_count": 194,
   "metadata": {},
   "outputs": [
    {
     "data": {
      "text/plain": [
       "'דוח-תשואה-לאפיקים-כללית-60-פלוס רבעון 4 2017.xlsx'"
      ]
     },
     "execution_count": 194,
     "metadata": {},
     "output_type": "execute_result"
    }
   ],
   "source": [
    "file_name"
   ]
  },
  {
   "cell_type": "code",
   "execution_count": null,
   "metadata": {},
   "outputs": [],
   "source": []
  }
 ],
 "metadata": {
  "kernelspec": {
   "display_name": "Python 3",
   "language": "python",
   "name": "python3"
  },
  "language_info": {
   "codemirror_mode": {
    "name": "ipython",
    "version": 3
   },
   "file_extension": ".py",
   "mimetype": "text/x-python",
   "name": "python",
   "nbconvert_exporter": "python",
   "pygments_lexer": "ipython3",
   "version": "3.7.6"
  }
 },
 "nbformat": 4,
 "nbformat_minor": 4
}
